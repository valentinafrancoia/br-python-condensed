{
  "nbformat": 4,
  "nbformat_minor": 0,
  "metadata": {
    "colab": {
      "name": "Aula 1 - Criando um aplicativo para cálculo do IMC (Intensivo Python Awari).ipynb",
      "provenance": [],
      "collapsed_sections": [],
      "authorship_tag": "ABX9TyPBUPBmGalMBlKuep7Dwl0Q",
      "include_colab_link": true
    },
    "kernelspec": {
      "name": "python3",
      "display_name": "Python 3"
    },
    "language_info": {
      "name": "python"
    }
  },
  "cells": [
    {
      "cell_type": "markdown",
      "metadata": {
        "id": "view-in-github",
        "colab_type": "text"
      },
      "source": [
        "<a href=\"https://colab.research.google.com/github/valentinafrancoia/br-python-condensed/blob/main/Aula_1_Criando_um_aplicativo_para_c%C3%A1lculo_do_IMC_(Intensivo_Python_Awari).ipynb\" target=\"_parent\"><img src=\"https://colab.research.google.com/assets/colab-badge.svg\" alt=\"Open In Colab\"/></a>"
      ]
    },
    {
      "cell_type": "markdown",
      "metadata": {
        "id": "59m_O6Ex6x-8"
      },
      "source": [
        "**AULA 1** - criando um aplicativo para cálculo do IMC"
      ]
    },
    {
      "cell_type": "markdown",
      "metadata": {
        "id": "zd6-dKYyaR59"
      },
      "source": [
        "Fórmula \\\n",
        "${IMC}=\\frac{Peso(kg)}{Altura(m)^2}$"
      ]
    },
    {
      "cell_type": "code",
      "metadata": {
        "id": "JzMF8z4qb1Da"
      },
      "source": [
        "altura = input(\"Qual sua altura em metros? (Informe com ponto. Ex.: 1.76) \")\n",
        "peso = input(\"Qual seu peso em quilos? (Informe com ponto. Ex.: 77.5) \")"
      ],
      "execution_count": null,
      "outputs": []
    },
    {
      "cell_type": "code",
      "metadata": {
        "colab": {
          "base_uri": "https://localhost:8080/"
        },
        "id": "HrzlIF4dc2nF",
        "outputId": "eaaae1de-5185-4d85-f92a-e8b602715a03"
      },
      "source": [
        "type(altura)"
      ],
      "execution_count": null,
      "outputs": [
        {
          "output_type": "execute_result",
          "data": {
            "text/plain": [
              "str"
            ]
          },
          "metadata": {},
          "execution_count": 11
        }
      ]
    },
    {
      "cell_type": "code",
      "metadata": {
        "colab": {
          "base_uri": "https://localhost:8080/"
        },
        "id": "j7muvIv2df73",
        "outputId": "5524edb2-a594-4ada-9fb6-3d97b73e8d7a"
      },
      "source": [
        "imc = round(float(peso)/float(altura)**2,3)\n",
        "imc"
      ],
      "execution_count": null,
      "outputs": [
        {
          "output_type": "execute_result",
          "data": {
            "text/plain": [
              "21.774"
            ]
          },
          "metadata": {},
          "execution_count": 6
        }
      ]
    },
    {
      "cell_type": "markdown",
      "metadata": {
        "id": "3Kn2zrv7nMO_"
      },
      "source": [
        "**Resultado**"
      ]
    },
    {
      "cell_type": "code",
      "metadata": {
        "id": "0O174yfDgWqY"
      },
      "source": [
        "def calcula_imc():\n",
        "  nome = input (\"Qual seu nome? \")\n",
        "  altura = input (\"Qual sua altura em metros? (Informe com ponto. Ex.: 1.76) \")\n",
        "  peso = input(\"Qual seu peso em quilos? (Informe com ponto. Ex.: 77.5) \")\n",
        "  imc = round(float(peso)/float(altura)**2,3)\n",
        "  print(f\"Olá {nome}, seu IMC é {imc}\")\n",
        "\n",
        "calcula_imc()"
      ],
      "execution_count": null,
      "outputs": []
    },
    {
      "cell_type": "code",
      "metadata": {
        "id": "Rdqa22idKbmF"
      },
      "source": [
        ""
      ],
      "execution_count": null,
      "outputs": []
    }
  ]
}