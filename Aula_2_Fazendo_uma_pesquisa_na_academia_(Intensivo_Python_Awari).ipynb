{
  "nbformat": 4,
  "nbformat_minor": 0,
  "metadata": {
    "colab": {
      "name": "Aula 2 - Fazendo uma pesquisa na academia (Intensivo Python Awari)",
      "provenance": [],
      "authorship_tag": "ABX9TyMPXqV+nO31CYYQZ9VE+8Ou",
      "include_colab_link": true
    },
    "kernelspec": {
      "name": "python3",
      "display_name": "Python 3"
    },
    "language_info": {
      "name": "python"
    }
  },
  "cells": [
    {
      "cell_type": "markdown",
      "metadata": {
        "id": "view-in-github",
        "colab_type": "text"
      },
      "source": [
        "<a href=\"https://colab.research.google.com/github/valentinafrancoia/br-python-condensed/blob/main/Aula_2_Fazendo_uma_pesquisa_na_academia_(Intensivo_Python_Awari).ipynb\" target=\"_parent\"><img src=\"https://colab.research.google.com/assets/colab-badge.svg\" alt=\"Open In Colab\"/></a>"
      ]
    },
    {
      "cell_type": "markdown",
      "metadata": {
        "id": "Q2KYbCvfdYyn"
      },
      "source": [
        "**Aula 2** - Fazendo uma pesquisa na academia"
      ]
    },
    {
      "cell_type": "markdown",
      "metadata": {
        "id": "PqdPD0xYjDE_"
      },
      "source": [
        "- **exercício 1**: crie uma função que retorne uma mensagem que informa se os dois argumentos são iguais ou diferentes \n",
        "(noções de bool)"
      ]
    },
    {
      "cell_type": "code",
      "metadata": {
        "id": "4ng5E9NQjPpb"
      },
      "source": [
        "def verdade_mentira():\n",
        "  num_1 = float(input(\"Insira qualquer número: \"))\n",
        "  num_2 = int(input(\"Insira um número inteiro \"))\n",
        "  \n",
        "  if num_1 == num_2:\n",
        "    print(\"Números iguais\")\n",
        "  else:\n",
        "    print(\"Números diferentes\")\n",
        "\n",
        "verdade_mentira()\n"
      ],
      "execution_count": null,
      "outputs": []
    },
    {
      "cell_type": "code",
      "metadata": {
        "id": "6p5gAPOPkeMq"
      },
      "source": [
        "# outra resolução \n",
        "\n",
        "def igual_dif(a,b):\n",
        "  if a == b:\n",
        "    return (\"Os argumentos são iguais\")\n",
        "  else:\n",
        "    return(\"Os argumentos são diferentes\")"
      ],
      "execution_count": 8,
      "outputs": []
    },
    {
      "cell_type": "code",
      "metadata": {
        "colab": {
          "base_uri": "https://localhost:8080/",
          "height": 37
        },
        "id": "nWBbfpbplsFG",
        "outputId": "2d106de9-d1c5-4270-eb9c-283b75424260"
      },
      "source": [
        "igual_dif(10,\"10\")"
      ],
      "execution_count": 12,
      "outputs": [
        {
          "output_type": "execute_result",
          "data": {
            "application/vnd.google.colaboratory.intrinsic+json": {
              "type": "string"
            },
            "text/plain": [
              "'Os argumentos são diferentes'"
            ]
          },
          "metadata": {},
          "execution_count": 12
        }
      ]
    },
    {
      "cell_type": "code",
      "metadata": {
        "colab": {
          "base_uri": "https://localhost:8080/"
        },
        "id": "CFvpE2g0nFeV",
        "outputId": "a98e8ee2-db00-4a44-8bce-f051ccdf3e2b"
      },
      "source": [
        "# as duas condições devem ser verdade (and)\n",
        "\n",
        "if (10 > 20) and (type(10) == int):\n",
        "  print (\"certo\")\n",
        "else:\n",
        "  print(\"errado\")"
      ],
      "execution_count": 13,
      "outputs": [
        {
          "output_type": "stream",
          "name": "stdout",
          "text": [
            "errado\n"
          ]
        }
      ]
    },
    {
      "cell_type": "code",
      "metadata": {
        "colab": {
          "base_uri": "https://localhost:8080/"
        },
        "id": "8EEfrSbincKi",
        "outputId": "cdb0f936-e124-40cf-b8eb-2d7ba0fe4c4f"
      },
      "source": [
        "# apenas uma das condições deve ser verdadeira (or)\n",
        "\n",
        "if (10 > 20) or (type(10) == int):\n",
        "  print (\"certo\")\n",
        "else:\n",
        "  print(\"errado\")"
      ],
      "execution_count": 14,
      "outputs": [
        {
          "output_type": "stream",
          "name": "stdout",
          "text": [
            "certo\n"
          ]
        }
      ]
    },
    {
      "cell_type": "markdown",
      "metadata": {
        "id": "v_Wthd_zmn67"
      },
      "source": [
        "**Exercício 2 -** Adicione um input que peça o nome do usuário e um código que retornará uma mensagem de aviso caso a pessoa esteja com o IMC acima de 25. Retorne isso no format da função "
      ]
    },
    {
      "cell_type": "code",
      "metadata": {
        "id": "_URn-9bSlwap"
      },
      "source": [
        "def calcula_imc():\n",
        "  nome = input (\"Qual seu nome? \")\n",
        "  altura = input (\"Qual sua altura em metros? (Informe com ponto. Ex.: 1.76) \")\n",
        "  peso = input(\"Qual seu peso em quilos? (Informe com ponto. Ex.: 77.5) \")\n",
        "  imc = round(float(peso)/float(altura)**2,3)\n",
        "  \n",
        "  if imc > 25:\n",
        "    print(f\"Olá {nome}, seu IMC é {imc} e está alto. Faça mais exercícios regulares. Daqui a pouco você entre no ritmo\")\n",
        "  else: \n",
        "    print(f\"Olá {nome}, seu IMC é {imc}. Seu imc está bom, de toda forma, mantenha o ritmo dos exercícios.\")\n",
        "\n",
        "\n",
        "calcula_imc()"
      ],
      "execution_count": null,
      "outputs": []
    },
    {
      "cell_type": "markdown",
      "metadata": {
        "id": "0PMsTJcI8lim"
      },
      "source": [
        "**Exercício 3 -** Da lista dada:\n",
        "- substitua o segundo item por casa;\n",
        "- adicione o item 45.9 ao final da lista"
      ]
    },
    {
      "cell_type": "code",
      "metadata": {
        "id": "jFKrjTda82Ma"
      },
      "source": [
        "lista = [12, 45.6, \"Elevador\", 8857.5, 1, 34, [\"olá\", 10]]"
      ],
      "execution_count": 24,
      "outputs": []
    },
    {
      "cell_type": "code",
      "metadata": {
        "id": "_Lwcn5UB9WXn"
      },
      "source": [
        "lista[1] = \"Casa\"\n",
        "lista.append(45.9)"
      ],
      "execution_count": 26,
      "outputs": []
    },
    {
      "cell_type": "code",
      "metadata": {
        "colab": {
          "base_uri": "https://localhost:8080/"
        },
        "id": "qLzx48tK9ieF",
        "outputId": "19b7a189-bc8d-4a80-881f-34491edbd13d"
      },
      "source": [
        "lista"
      ],
      "execution_count": 27,
      "outputs": [
        {
          "output_type": "execute_result",
          "data": {
            "text/plain": [
              "[12, 'Casa', 'Elevador', 8857.5, 1, 34, ['olá', 10], 45.9]"
            ]
          },
          "metadata": {},
          "execution_count": 27
        }
      ]
    },
    {
      "cell_type": "code",
      "metadata": {
        "id": "SyeiYwKz9ndl"
      },
      "source": [
        "# caso queira, é possível adicionar a alterar itens das outras listas dentro de listas\n",
        "\n",
        "lista[-2].append(99)"
      ],
      "execution_count": 29,
      "outputs": []
    },
    {
      "cell_type": "code",
      "metadata": {
        "id": "U-l_USJK-AGW"
      },
      "source": [
        "lista[-2][0] = \"Olá novamente\""
      ],
      "execution_count": 31,
      "outputs": []
    },
    {
      "cell_type": "code",
      "metadata": {
        "colab": {
          "base_uri": "https://localhost:8080/"
        },
        "id": "M2SQOt_B94jS",
        "outputId": "d8001b71-1cb9-4fa9-cbbb-dcc91595291a"
      },
      "source": [
        "lista"
      ],
      "execution_count": 32,
      "outputs": [
        {
          "output_type": "execute_result",
          "data": {
            "text/plain": [
              "[12, 'Casa', 'Elevador', 8857.5, 1, 34, ['Olá novamente', 10, 99], 45.9]"
            ]
          },
          "metadata": {},
          "execution_count": 32
        }
      ]
    },
    {
      "cell_type": "markdown",
      "metadata": {
        "id": "zer4Ro-1-qzG"
      },
      "source": [
        "**ITERANDO**\n",
        "***loop for*** "
      ]
    },
    {
      "cell_type": "code",
      "metadata": {
        "colab": {
          "base_uri": "https://localhost:8080/"
        },
        "id": "sZjUGQER-ptJ",
        "outputId": "22aa5634-4e4c-4d23-d5bb-9d3453f76c3b"
      },
      "source": [
        "for i in lista:\n",
        "  print(i, i)\n"
      ],
      "execution_count": 34,
      "outputs": [
        {
          "output_type": "stream",
          "name": "stdout",
          "text": [
            "12 12\n",
            "Casa Casa\n",
            "Elevador Elevador\n",
            "8857.5 8857.5\n",
            "1 1\n",
            "34 34\n",
            "['Olá novamente', 10, 99] ['Olá novamente', 10, 99]\n",
            "45.9 45.9\n"
          ]
        }
      ]
    },
    {
      "cell_type": "markdown",
      "metadata": {
        "id": "55RDrz7U_E8b"
      },
      "source": [
        "**Exercício 3** *Loop com format*\n",
        "Faça um loop na lista que você criou utilizando a função format para dizer que cada um dos itens está na lista:\n",
        "Ex.: 4 está na lista"
      ]
    },
    {
      "cell_type": "code",
      "metadata": {
        "colab": {
          "base_uri": "https://localhost:8080/"
        },
        "id": "6XKN2FVd--ua",
        "outputId": "bee2289c-f8e8-4699-e784-6bc9cccb2b16"
      },
      "source": [
        "for i in lista:\n",
        "  print(f\"{i} está na lista \") "
      ],
      "execution_count": 37,
      "outputs": [
        {
          "output_type": "stream",
          "name": "stdout",
          "text": [
            "12 está na lista \n",
            "Casa está na lista \n",
            "Elevador está na lista \n",
            "8857.5 está na lista \n",
            "1 está na lista \n",
            "34 está na lista \n",
            "['Olá novamente', 10, 99] está na lista \n",
            "45.9 está na lista \n"
          ]
        }
      ]
    },
    {
      "cell_type": "markdown",
      "metadata": {
        "id": "4ZW_5G-aq7qT"
      },
      "source": [
        "Supondo que você é o dono de uma academia de ginástica e queira azer uma pesquisa com seus alunos para poder indicar treinamentos mais adequados. Você precisaria coletar informações, organizá-las e criar uma saída que envie mensagens ou e-mails para os alunos com a informação já processada. "
      ]
    },
    {
      "cell_type": "markdown",
      "metadata": {
        "id": "napYulmoAma1"
      },
      "source": [
        "*Exemplo prático*:\n",
        "Coletando os dados da academia \n"
      ]
    },
    {
      "cell_type": "code",
      "metadata": {
        "id": "gMzxes7I_w_z"
      },
      "source": [
        "lista_academia = [[\"Ulrich\", \"M\", 80, 1.92], [\"Claudia\", \"F\", 62, 1.56],\n",
        "               [\"Mikkel\", \"M\", 67, 1.56], [\"Jonas\", \"M\", 52, 1.52],\n",
        "               [\"Charlotte\", \"F\", 52, 1.56], [\"Martha\", \"F\", 76, 1.98]]"
      ],
      "execution_count": 41,
      "outputs": []
    },
    {
      "cell_type": "markdown",
      "metadata": {
        "id": "YD8gfx4XCIp6"
      },
      "source": [
        "**iterando sobre nossa lista**\n"
      ]
    },
    {
      "cell_type": "code",
      "metadata": {
        "colab": {
          "base_uri": "https://localhost:8080/"
        },
        "id": "PhDLA6XyBfRQ",
        "outputId": "1ed11834-8ff5-4978-ff98-8c1e8b4c4166"
      },
      "source": [
        "for i in lista_academia:\n",
        "  print(i[0],\", peso e altura: \", i[-2], \",\", i[-1],)\n",
        "  print(\"=\"*80)"
      ],
      "execution_count": 47,
      "outputs": [
        {
          "output_type": "stream",
          "name": "stdout",
          "text": [
            "Ulrich , peso e altura:  80 , 1.92\n",
            "================================================================================\n",
            "Claudia , peso e altura:  62 , 1.56\n",
            "================================================================================\n",
            "Mikkel , peso e altura:  67 , 1.56\n",
            "================================================================================\n",
            "Jonas , peso e altura:  52 , 1.52\n",
            "================================================================================\n",
            "Charlotte , peso e altura:  52 , 1.56\n",
            "================================================================================\n",
            "Martha , peso e altura:  76 , 1.98\n",
            "================================================================================\n"
          ]
        }
      ]
    },
    {
      "cell_type": "markdown",
      "metadata": {
        "id": "Jod0_q6nC0Fd"
      },
      "source": [
        "**Operações dentro das listas**"
      ]
    },
    {
      "cell_type": "code",
      "metadata": {
        "id": "Z5jG34z9CVf_"
      },
      "source": [
        "for i in lista_academia:\n",
        "  imc = i[2]/i[3]**2\n",
        "  imc_arredondado = round(imc, 2)\n",
        "  i.append(imc_arredondado)\n"
      ],
      "execution_count": 51,
      "outputs": []
    },
    {
      "cell_type": "code",
      "metadata": {
        "colab": {
          "base_uri": "https://localhost:8080/"
        },
        "id": "T8VGpnaMEUBN",
        "outputId": "a7d06613-3194-4e88-f2a8-73759bb52321"
      },
      "source": [
        "lista_academia"
      ],
      "execution_count": 52,
      "outputs": [
        {
          "output_type": "execute_result",
          "data": {
            "text/plain": [
              "[['Ulrich', 'M', 80, 1.92, 21.7],\n",
              " ['Claudia', 'F', 62, 1.56, 25.48],\n",
              " ['Mikkel', 'M', 67, 1.56, 27.53],\n",
              " ['Jonas', 'M', 52, 1.52, 22.51],\n",
              " ['Charlotte', 'F', 52, 1.56, 21.37],\n",
              " ['Martha', 'F', 76, 1.98, 19.39]]"
            ]
          },
          "metadata": {},
          "execution_count": 52
        }
      ]
    },
    {
      "cell_type": "markdown",
      "metadata": {
        "id": "gyIu_R1nGvXQ"
      },
      "source": [
        "**E se eu quiser saber a altura da Charlotte ??**"
      ]
    },
    {
      "cell_type": "markdown",
      "metadata": {
        "id": "wLUGnIw3ICN-"
      },
      "source": [
        "**Dicionários**"
      ]
    },
    {
      "cell_type": "code",
      "metadata": {
        "colab": {
          "base_uri": "https://localhost:8080/"
        },
        "id": "2m-AXAoYEgKC",
        "outputId": "5a2e3ab0-9be7-48d6-ff29-68e7dd18f820"
      },
      "source": [
        "meu_dicionario = {\"peso\" : 88, \"altura\" : 1.88}\n",
        "meu_dicionario[\"altura\"]"
      ],
      "execution_count": 56,
      "outputs": [
        {
          "output_type": "execute_result",
          "data": {
            "text/plain": [
              "1.88"
            ]
          },
          "metadata": {},
          "execution_count": 56
        }
      ]
    },
    {
      "cell_type": "markdown",
      "metadata": {
        "id": "_tNLRko1I9_J"
      },
      "source": [
        "**Dicionários dentro de dicionários**"
      ]
    },
    {
      "cell_type": "code",
      "metadata": {
        "id": "mSuJ_aj0JDBx"
      },
      "source": [
        "dicionario = {\"Valentina\":{\"peso\" : 49, \"altura\" : 1.69}, \"Ulrich\":{\"peso\" : 80, \"altura\" : 1.92}}"
      ],
      "execution_count": 58,
      "outputs": []
    },
    {
      "cell_type": "code",
      "metadata": {
        "colab": {
          "base_uri": "https://localhost:8080/"
        },
        "id": "PrN_pelPJq_B",
        "outputId": "92a0b33d-f13a-461c-a5f6-50b7293f9787"
      },
      "source": [
        "dicionario[\"Ulrich\"][\"altura\"]"
      ],
      "execution_count": 60,
      "outputs": [
        {
          "output_type": "execute_result",
          "data": {
            "text/plain": [
              "1.92"
            ]
          },
          "metadata": {},
          "execution_count": 60
        }
      ]
    },
    {
      "cell_type": "markdown",
      "metadata": {
        "id": "1vKD-IPTI2hU"
      },
      "source": [
        "**Adicionando itens a um dicionário**"
      ]
    },
    {
      "cell_type": "code",
      "metadata": {
        "colab": {
          "base_uri": "https://localhost:8080/"
        },
        "id": "wpGsnZACHIWP",
        "outputId": "26481888-1e21-4128-fa8e-9097d8d61d84"
      },
      "source": [
        "dicionario[\"Valentina\"][\"e-mail\"] = \"valentina@valentina.com.br\"\n",
        "dicionario"
      ],
      "execution_count": 61,
      "outputs": [
        {
          "output_type": "execute_result",
          "data": {
            "text/plain": [
              "{'Ulrich': {'altura': 1.92, 'peso': 80},\n",
              " 'Valentina': {'altura': 1.69,\n",
              "  'e-mail': 'valentina@valentina.com.br',\n",
              "  'peso': 49}}"
            ]
          },
          "metadata": {},
          "execution_count": 61
        }
      ]
    },
    {
      "cell_type": "markdown",
      "metadata": {
        "id": "JV6syro3KQ4H"
      },
      "source": [
        "**Exercício 4 -** Adicione mais um membro ao dicionário com peso e altura e atualize o dicionário com a altura da Martha"
      ]
    },
    {
      "cell_type": "code",
      "metadata": {
        "id": "wr8ZVC3YKiYI"
      },
      "source": [
        "dicionario[\"Martha\"] = {\"peso\" : 76, \"altura\" : 1.98}"
      ],
      "execution_count": 63,
      "outputs": []
    },
    {
      "cell_type": "code",
      "metadata": {
        "colab": {
          "base_uri": "https://localhost:8080/"
        },
        "id": "5Ip4ltfQLVMT",
        "outputId": "dc2e9f7f-4ebd-4070-b98b-34d3ccc74b5a"
      },
      "source": [
        "dicionario"
      ],
      "execution_count": 64,
      "outputs": [
        {
          "output_type": "execute_result",
          "data": {
            "text/plain": [
              "{'Martha': {'altura': 1.98, 'peso': 76},\n",
              " 'Ulrich': {'altura': 1.92, 'peso': 80},\n",
              " 'Valentina': {'altura': 1.69,\n",
              "  'e-mail': 'valentina@valentina.com.br',\n",
              "  'peso': 49}}"
            ]
          },
          "metadata": {},
          "execution_count": 64
        }
      ]
    },
    {
      "cell_type": "markdown",
      "metadata": {
        "id": "VRSU87pDNyu4"
      },
      "source": [
        "**O Grande Loop**\n",
        "Da lista ao dicionário\n"
      ]
    },
    {
      "cell_type": "code",
      "metadata": {
        "colab": {
          "base_uri": "https://localhost:8080/"
        },
        "id": "WInNyCrUN6II",
        "outputId": "7629a576-57b6-474b-e229-bc1ef4009108"
      },
      "source": [
        "lista_academia"
      ],
      "execution_count": 65,
      "outputs": [
        {
          "output_type": "execute_result",
          "data": {
            "text/plain": [
              "[['Ulrich', 'M', 80, 1.92, 21.7],\n",
              " ['Claudia', 'F', 62, 1.56, 25.48],\n",
              " ['Mikkel', 'M', 67, 1.56, 27.53],\n",
              " ['Jonas', 'M', 52, 1.52, 22.51],\n",
              " ['Charlotte', 'F', 52, 1.56, 21.37],\n",
              " ['Martha', 'F', 76, 1.98, 19.39]]"
            ]
          },
          "metadata": {},
          "execution_count": 65
        }
      ]
    },
    {
      "cell_type": "code",
      "metadata": {
        "colab": {
          "base_uri": "https://localhost:8080/"
        },
        "id": "BJF1QssrN-r-",
        "outputId": "5f84826e-1db2-4983-d29d-f6b6252013cb"
      },
      "source": [
        "academia_dict = {}\n",
        "for i in lista_academia:\n",
        "  academia_dict[i[0]] = {}\n",
        "  academia_dict[i[0]][\"sexo\"] = i[1]\n",
        "  academia_dict[i[0]][\"peso\"] = i[2]\n",
        "  academia_dict[i[0]][\"altura\"] = i[3]\n",
        "  academia_dict[i[0]][\"imc\"] = i[4] \n",
        "\n",
        "academia_dict"
      ],
      "execution_count": 68,
      "outputs": [
        {
          "output_type": "execute_result",
          "data": {
            "text/plain": [
              "{'Charlotte': {'altura': 1.56, 'imc': 21.37, 'peso': 52, 'sexo': 'F'},\n",
              " 'Claudia': {'altura': 1.56, 'imc': 25.48, 'peso': 62, 'sexo': 'F'},\n",
              " 'Jonas': {'altura': 1.52, 'imc': 22.51, 'peso': 52, 'sexo': 'M'},\n",
              " 'Martha': {'altura': 1.98, 'imc': 19.39, 'peso': 76, 'sexo': 'F'},\n",
              " 'Mikkel': {'altura': 1.56, 'imc': 27.53, 'peso': 67, 'sexo': 'M'},\n",
              " 'Ulrich': {'altura': 1.92, 'imc': 21.7, 'peso': 80, 'sexo': 'M'}}"
            ]
          },
          "metadata": {},
          "execution_count": 68
        }
      ]
    },
    {
      "cell_type": "code",
      "metadata": {
        "colab": {
          "base_uri": "https://localhost:8080/"
        },
        "id": "tZ5-8sS6OAFB",
        "outputId": "4c1cbe27-eb84-4933-bc8f-77126eedefcc"
      },
      "source": [
        "# E finalmente a altura da Charlotte\n",
        "\n",
        "academia_dict[\"Charlotte\"][\"altura\"]"
      ],
      "execution_count": 69,
      "outputs": [
        {
          "output_type": "execute_result",
          "data": {
            "text/plain": [
              "1.56"
            ]
          },
          "metadata": {},
          "execution_count": 69
        }
      ]
    },
    {
      "cell_type": "markdown",
      "metadata": {
        "id": "mTx70OZoPno6"
      },
      "source": [
        "**As chaves dos dicionários**"
      ]
    },
    {
      "cell_type": "code",
      "metadata": {
        "colab": {
          "base_uri": "https://localhost:8080/"
        },
        "id": "4LakORumPq_5",
        "outputId": "f389eaf7-37cd-4089-c4d6-9c09fafdf562"
      },
      "source": [
        "for i in academia_dict.keys():\n",
        "  print(i)"
      ],
      "execution_count": 70,
      "outputs": [
        {
          "output_type": "stream",
          "name": "stdout",
          "text": [
            "Ulrich\n",
            "Claudia\n",
            "Mikkel\n",
            "Jonas\n",
            "Charlotte\n",
            "Martha\n"
          ]
        }
      ]
    },
    {
      "cell_type": "markdown",
      "metadata": {
        "id": "z30baqGpQziX"
      },
      "source": [
        "**Criando mensagens padrões**"
      ]
    },
    {
      "cell_type": "code",
      "metadata": {
        "colab": {
          "base_uri": "https://localhost:8080/"
        },
        "id": "FjtlrbLGPwKp",
        "outputId": "84926a2e-c2fb-48bf-98ad-e5aa3227ea04"
      },
      "source": [
        "for i in academia_dict:\n",
        "  print(f\"{i}, seu imc é {academia_dict[i]['imc']}. Prepare-se para novos treinos!\")"
      ],
      "execution_count": 71,
      "outputs": [
        {
          "output_type": "stream",
          "name": "stdout",
          "text": [
            "Ulrich, seu imc é 21.7. Prepare-se para novos treinos!\n",
            "Claudia, seu imc é 25.48. Prepare-se para novos treinos!\n",
            "Mikkel, seu imc é 27.53. Prepare-se para novos treinos!\n",
            "Jonas, seu imc é 22.51. Prepare-se para novos treinos!\n",
            "Charlotte, seu imc é 21.37. Prepare-se para novos treinos!\n",
            "Martha, seu imc é 19.39. Prepare-se para novos treinos!\n"
          ]
        }
      ]
    },
    {
      "cell_type": "code",
      "metadata": {
        "id": "QLOojRXMRfF3"
      },
      "source": [
        ""
      ],
      "execution_count": null,
      "outputs": []
    },
    {
      "cell_type": "markdown",
      "metadata": {
        "id": "rpD1364fRh1q"
      },
      "source": [
        "**Exercício 5** Crie uma mensagem padrão que varie de acordo com os pronomes (feminino, masculino) e sobre o IMC (abaixo ou acima de 25) \n",
        "\n",
        "\n",
        "\n",
        "Ex: \n",
        "\n",
        "Olá Claudia, gostaríamos de informar que seu IMC é 25.4! Esteja preparada para novos treinos\n",
        "\n",
        "Olá Jonas, gostaríamos de informar que seu IMC é 19.3! Seus treinos continuarão os mesmos!"
      ]
    },
    {
      "cell_type": "code",
      "metadata": {
        "colab": {
          "base_uri": "https://localhost:8080/"
        },
        "id": "jJrX3XT3SQMl",
        "outputId": "c62e139a-9743-4c3f-b859-f2bcaf902b9e"
      },
      "source": [
        "for i in academia_dict.keys():\n",
        "  if academia_dict[i][\"sexo\"] == \"F\" and academia_dict[i][\"imc\"] >= 25:\n",
        "    print(f\"Olá {i}, gostaríamos de informar que seu IMC é {academia_dict[i]['imc']}! Esteja preparada para novos treinos.\")\n",
        "  elif academia_dict[i][\"sexo\"] == \"M\" and academia_dict[i][\"imc\"] >= 25:\n",
        "    print(f\"Olá {i}, gostaríamos de informar que seu IMC é {academia_dict[i]['imc']}! Esteja preparado para novos treinos.\")\n",
        "  else:\n",
        "    print(f\"Olá {i}, gostaríamos de informar que seu IMC é {academia_dict[i]['imc']}! Seus treinos continuarão os mesmos.\")\n",
        "  "
      ],
      "execution_count": 73,
      "outputs": [
        {
          "output_type": "stream",
          "name": "stdout",
          "text": [
            "Olá Ulrich, gostaríamos de informar que seu IMC é 21.7! Seus treinos continuarão os mesmos.\n",
            "Olá Claudia, gostaríamos de informar que seu IMC é 25.48! Esteja preparada para novos treinos.\n",
            "Olá Mikkel, gostaríamos de informar que seu IMC é 27.53! Esteja preparado para novos treinos.\n",
            "Olá Jonas, gostaríamos de informar que seu IMC é 22.51! Seus treinos continuarão os mesmos.\n",
            "Olá Charlotte, gostaríamos de informar que seu IMC é 21.37! Seus treinos continuarão os mesmos.\n",
            "Olá Martha, gostaríamos de informar que seu IMC é 19.39! Seus treinos continuarão os mesmos.\n"
          ]
        }
      ]
    },
    {
      "cell_type": "code",
      "metadata": {
        "id": "1QykErWlUiPP"
      },
      "source": [
        ""
      ],
      "execution_count": null,
      "outputs": []
    }
  ]
}