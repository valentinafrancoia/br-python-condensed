{
  "nbformat": 4,
  "nbformat_minor": 0,
  "metadata": {
    "colab": {
      "name": "Cópia de Copy of Copy of python_exercises_01.ipynb",
      "provenance": [],
      "collapsed_sections": [],
      "include_colab_link": true
    },
    "kernelspec": {
      "name": "python3",
      "display_name": "Python 3"
    }
  },
  "cells": [
    {
      "cell_type": "markdown",
      "metadata": {
        "id": "view-in-github",
        "colab_type": "text"
      },
      "source": [
        "<a href=\"https://colab.research.google.com/github/valentinafrancoia/br-python-condensed/blob/main/python_exercises_01.ipynb\" target=\"_parent\"><img src=\"https://colab.research.google.com/assets/colab-badge.svg\" alt=\"Open In Colab\"/></a>"
      ]
    },
    {
      "cell_type": "markdown",
      "metadata": {
        "id": "8YqaSZgXYJ5g"
      },
      "source": [
        "![](https://i.imgur.com/YX6UATs.png)\n"
      ]
    },
    {
      "cell_type": "markdown",
      "metadata": {
        "id": "hhUVzDipaGb9"
      },
      "source": [
        "### **Exercícios de Python - 1** \n",
        "\n",
        "\n",
        "\n"
      ]
    },
    {
      "cell_type": "markdown",
      "metadata": {
        "id": "qMGp-h8OaGqr"
      },
      "source": [
        "**1 -** Faça um programa, com uma função que necessite de três argumentos, e que forneça a soma desses três argumentos."
      ]
    },
    {
      "cell_type": "code",
      "metadata": {
        "id": "kTg-D89NdCld"
      },
      "source": [
        "def IMC():\n",
        "  peso = float(input (\"Qual seu peso?: \"))\n",
        "  altura = float(input (\"Qual sua altura?: \"))\n",
        "  IMC = round (peso/altura**2,3)\n",
        "  print (\"Seu IMC é igual a \",IMC)\n"
      ],
      "execution_count": null,
      "outputs": []
    },
    {
      "cell_type": "code",
      "metadata": {
        "id": "fSUI-0pze300"
      },
      "source": [
        "IMC()"
      ],
      "execution_count": null,
      "outputs": []
    },
    {
      "cell_type": "markdown",
      "metadata": {
        "id": "P1-vo0LerLgT"
      },
      "source": [
        "- **hora_d** = quantidade de horas trabalhadas por dia\n",
        "- **valor_h** = valor da hora trabalhada\n",
        "- **dias_s** = quantos dias da semana trabalhados\n",
        "- **semana_m** = quantas semanas tem o mês "
      ]
    },
    {
      "cell_type": "code",
      "metadata": {
        "id": "-1YJcTbkmsDU"
      },
      "source": [
        "def salario(hora_d,dias_s,valor_h, semana_m):\n",
        "  salario_m = (hora_d*valor_h)*dias_s*semana_m\n",
        "  print (\"Seu salário mensal é de: \", salario_m)"
      ],
      "execution_count": 13,
      "outputs": []
    },
    {
      "cell_type": "code",
      "metadata": {
        "id": "Iifu-a03sLbE"
      },
      "source": [
        "salario (8,5,36,4)"
      ],
      "execution_count": null,
      "outputs": []
    },
    {
      "cell_type": "code",
      "metadata": {
        "id": "m0_jnhNXX8dS"
      },
      "source": [
        "# Outra forma:\n",
        "\n",
        "def salário2():\n",
        "  name = str(input (\"Qual seu nome? \"))\n",
        "  horas = int(input (\"Quantos horas você trabalha por dia? \"))\n",
        "  dias = int(input (\"Quantos dias da semana você trabalha? \"))\n",
        "  valor = float(input (\"Qual o valor da sua hora trabalhada? \"))\n",
        "  semana = int(input (\"Quantas semanas por mês você trabalha? \"))\n",
        "  salario_mensal = (horas * valor) * dias * semana\n",
        "  print (f\"{name}, seu salário mensal é de {salario_mensal}\")\n",
        "\n",
        "salário2()"
      ],
      "execution_count": null,
      "outputs": []
    },
    {
      "cell_type": "markdown",
      "metadata": {
        "id": "KdLXZftIaG60"
      },
      "source": [
        "**2 -** Faça um Programa que peça a temperatura em graus Celsius, transforme e mostre em graus Fahrenheit. \\\n",
        "*Dica: procure a fórmula para essa conversão na internet*"
      ]
    },
    {
      "cell_type": "code",
      "metadata": {
        "id": "MNINJ32eU45M"
      },
      "source": [
        "def temperatura():\n",
        "  c = int (input (\"Qual a temperatura em graus Celsius da sua cidade nesse momento: \"))\n",
        "  f = round (c * 1.88 + 32,2)\n",
        "  print (\"a temperatura em Fahrenheit é: \", f)\n",
        "\n",
        "temperatura ()\n"
      ],
      "execution_count": null,
      "outputs": []
    },
    {
      "cell_type": "markdown",
      "metadata": {
        "id": "4OETBVgmaGzX"
      },
      "source": [
        "**3 -** Faça um Programa que peça um número inteiro e determine se ele é par ou impar. Dica: utilize o operador módulo (resto da divisão)."
      ]
    },
    {
      "cell_type": "code",
      "metadata": {
        "id": "WbzCimFZVSr1"
      },
      "source": [
        "a = int (input (\"Insira um número inteiro: \"))\n",
        "b = a % 2\n",
        "if b == 0:\n",
        "  print (\"o número inserido é par\")\n",
        "else:\n",
        "  print (\"o número inserido é ímpar\")\n"
      ],
      "execution_count": null,
      "outputs": []
    },
    {
      "cell_type": "markdown",
      "metadata": {
        "id": "7zPJ8sgPaGw0"
      },
      "source": [
        "**4 -** Faça um programa que peça o tamanho de um arquivo para download (em MB) e a velocidade de um link de Internet (em Mbps), calcule e informe o tempo aproximado de download do arquivo usando este link (em minutos)."
      ]
    },
    {
      "cell_type": "code",
      "metadata": {
        "id": "tncjEX6CzN0Q"
      },
      "source": [
        "# 1a resolução\n",
        "\n",
        "Tamanho_M = int (input(\"Qual o tamanho em MB do arquivo? \"))\n",
        "Velocidade_I= int (input(\"Qual a velocidade de download em MB/S? \"))\n",
        "\n",
        "minutos = (Tamanho_M/Velocidade_I)/60\n",
        "segundos = (minutos - int(minutos))*60\n",
        "print (f\"O tempo de download é {int(minutos)} minutos e {int(segundos)} segundos\")"
      ],
      "execution_count": null,
      "outputs": []
    },
    {
      "cell_type": "code",
      "metadata": {
        "id": "l4qtSxU7XquB"
      },
      "source": [
        "# 2a resolução\n",
        "\n",
        "arquivo = float (input (\"Qual o tamanho do arquivo? \"))\n",
        "velocidade = float (input (\"Qual a velocidade de download da sua internet? \"))\n",
        "tempo_s = arquivo/velocidade\n",
        "tempo_m=tempo_s*60\n",
        "print (tempo_m)"
      ],
      "execution_count": null,
      "outputs": []
    },
    {
      "cell_type": "markdown",
      "metadata": {
        "id": "0tkhm6EUaG1u"
      },
      "source": [
        "5 - Faça um programa para a leitura de duas notas parciais de um aluno. O programa deve calcular a média alcançada por aluno e apresentar:\n",
        "- A mensagem \"Aprovado\", se a média alcançada for maior ou igual a sete;\n",
        "- A mensagem \"Reprovado\", se a média for menor do que sete;\n",
        "- A mensagem \"Aprovado com Distinção\", se a média for igual a dez."
      ]
    },
    {
      "cell_type": "code",
      "metadata": {
        "id": "990mQ6UhdwKl",
        "colab": {
          "base_uri": "https://localhost:8080/"
        },
        "outputId": "494bbe47-7a05-4ecd-845d-805b2324d841"
      },
      "source": [
        "def notas():\n",
        "  nota1 = float(input (\"Insira sua primeira nota: \"))\n",
        "  nota2 = float(input (\"Insira sua segunda nota: \"))\n",
        "  media = (nota1 + nota2)/2 \n",
        "\n",
        "  if media == 10:\n",
        "    print(\"Aprovado com Distinção\")\n",
        "  elif media >= 7:\n",
        "    print(\"Aprovado\")\n",
        "  else:\n",
        "    print(\"Reprovado\")\n",
        "\n",
        "notas()"
      ],
      "execution_count": 32,
      "outputs": [
        {
          "output_type": "stream",
          "name": "stdout",
          "text": [
            "Insira sua primeira nota: 7.1\n",
            "Insira sua segunda nota: 6.9\n",
            "Aprovado\n"
          ]
        }
      ]
    },
    {
      "cell_type": "markdown",
      "metadata": {
        "id": "Lm1tOKThnU42"
      },
      "source": [
        "Exercícios adaptados de Python Brasil"
      ]
    }
  ]
}