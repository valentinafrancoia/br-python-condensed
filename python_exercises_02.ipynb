{
  "nbformat": 4,
  "nbformat_minor": 0,
  "metadata": {
    "colab": {
      "name": "python_exercises_02.ipynb",
      "provenance": [],
      "include_colab_link": true
    },
    "kernelspec": {
      "name": "python3",
      "display_name": "Python 3"
    }
  },
  "cells": [
    {
      "cell_type": "markdown",
      "metadata": {
        "id": "view-in-github",
        "colab_type": "text"
      },
      "source": [
        "<a href=\"https://colab.research.google.com/github/valentinafrancoia/br-python-condensed/blob/main/python_exercises_02.ipynb\" target=\"_parent\"><img src=\"https://colab.research.google.com/assets/colab-badge.svg\" alt=\"Open In Colab\"/></a>"
      ]
    },
    {
      "cell_type": "markdown",
      "metadata": {
        "id": "8YqaSZgXYJ5g"
      },
      "source": [
        "![](https://i.imgur.com/YX6UATs.png)\n"
      ]
    },
    {
      "cell_type": "markdown",
      "metadata": {
        "id": "hhUVzDipaGb9"
      },
      "source": [
        "### **Exercícios de Python - 2** \n",
        "\n",
        "\n",
        "\n"
      ]
    },
    {
      "cell_type": "markdown",
      "metadata": {
        "id": "c62cM2VlKFqN"
      },
      "source": [
        "**1 -** Faça um programa que leia um nome de usuário e a sua senha e não aceite a senha igual ao nome do usuário, mostrando uma mensagem de erro."
      ]
    },
    {
      "cell_type": "code",
      "metadata": {
        "colab": {
          "base_uri": "https://localhost:8080/"
        },
        "id": "4jHgdsLzVv4B",
        "outputId": "9d72999a-8f11-4fe3-b4b8-e278b7b3b1b5"
      },
      "source": [
        "def senhas():\n",
        "  login = input(\"Insira o nome do seu usuário: \")\n",
        "  senha = input(\"Insira a senha: \")\n",
        "\n",
        "  if login == senha:\n",
        "    print(\"Erro! Sua senha deve ser diferente do seu login\")\n",
        "  else:\n",
        "    print(\"Senha aprovada\")\n",
        "\n",
        "senhas()"
      ],
      "execution_count": 4,
      "outputs": [
        {
          "output_type": "stream",
          "name": "stdout",
          "text": [
            "Insira o nome do seu usuário: valentina\n",
            "Insira a senha: valentina\n",
            "Erro! Sua senha deve ser diferente do seu login\n"
          ]
        }
      ]
    },
    {
      "cell_type": "markdown",
      "metadata": {
        "id": "qMGp-h8OaGqr"
      },
      "source": [
        "**2 -** Utilizando listas faça um programa que faça 5 perguntas para uma pessoa sobre um crime. As perguntas são:\n",
        "- \"Telefonou para a vítima?\"\n",
        "- \"Esteve no local do crime?\"\n",
        "- \"Mora perto da vítima?\"\n",
        "- \"Devia para a vítima?\"\n",
        "- \"Já trabalhou com a vítima?\" \\\n",
        "O programa deve no final emitir uma classificação sobre a participação da pessoa no crime. Se a pessoa responder positivamente a 2 questões ela deve ser classificada como \"Suspeita\", entre 3 e 4 como \"Cúmplice\" e 5 como \"Assassino\". Caso contrário, ele será classificado como \"Inocente\"."
      ]
    },
    {
      "cell_type": "code",
      "metadata": {
        "colab": {
          "base_uri": "https://localhost:8080/"
        },
        "id": "kRxeZv7bXVKw",
        "outputId": "f035e329-a667-4b15-fc11-5a6b68236c5e"
      },
      "source": [
        "lista_respondida = []\n",
        "\n",
        "\n",
        "lista_respondida.append(input(\"Telefonou para a vítima? Sim ou não \"))\n",
        "lista_respondida.append(input(\"Esteve no local do crime? Sim ou não \"))\n",
        "lista_respondida.append(input(\"Mora perto da vítima? \"))\n",
        "lista_respondida.append(input(\"Devia para a vítima? \"))\n",
        "lista_respondida.append(input(\"Já trabalhou para a vítima? \"))\n",
        "\n",
        "contador = 0\n",
        "for i in lista_respondida:\n",
        "  if i == \"sim\" or i == \"Sim\" or i == \"SIM\":\n",
        "    contador = contador + 1 \n",
        "\n",
        "if contador <= 1:\n",
        "  print(\"Inocente\")\n",
        "elif contador == 2:\n",
        "  print(\"Suspeita\")\n",
        "elif contador == 3 or contador == 4:\n",
        "  print(\"Cúmplice\")\n",
        "else:\n",
        "  print(\"Assassino\")\n",
        "\n",
        "lista_respondida"
      ],
      "execution_count": 21,
      "outputs": [
        {
          "output_type": "stream",
          "name": "stdout",
          "text": [
            "Telefonou para a vítima? Sim ou não sim\n",
            "Esteve no local do crime? Sim ou não sim\n",
            "Mora perto da vítima? não\n",
            "Devia para a vítima? não\n",
            "Já trabalhou para a vítima? não\n",
            "Suspeita\n"
          ]
        },
        {
          "output_type": "execute_result",
          "data": {
            "text/plain": [
              "['sim', 'sim', 'não', 'não', 'não']"
            ]
          },
          "metadata": {},
          "execution_count": 21
        }
      ]
    },
    {
      "cell_type": "markdown",
      "metadata": {
        "id": "FTK9nE4pdB1D"
      },
      "source": [
        "**3 - **A lista abaixo possui nomes de alunos de uma classe. Crie um loop que imprima '{nome} é aluno da classe'\n"
      ]
    },
    {
      "cell_type": "code",
      "metadata": {
        "id": "nW4SbDxTmx4t"
      },
      "source": [
        "alunos =['Maria','João','Marcelo','Jonas','Laura','Luana']"
      ],
      "execution_count": 23,
      "outputs": []
    },
    {
      "cell_type": "code",
      "metadata": {
        "colab": {
          "base_uri": "https://localhost:8080/"
        },
        "id": "odsnn41qSgBH",
        "outputId": "a8d185e8-2a0c-4810-89ce-928f3b9422f0"
      },
      "source": [
        "alunos"
      ],
      "execution_count": 24,
      "outputs": [
        {
          "output_type": "execute_result",
          "data": {
            "text/plain": [
              "['Maria', 'João', 'Marcelo', 'Jonas', 'Laura', 'Luana']"
            ]
          },
          "metadata": {},
          "execution_count": 24
        }
      ]
    },
    {
      "cell_type": "code",
      "metadata": {
        "colab": {
          "base_uri": "https://localhost:8080/"
        },
        "id": "3B_GIjMeciep",
        "outputId": "05bdf924-29d3-404d-95b4-69a2ef4e698d"
      },
      "source": [
        "for i in alunos:\n",
        "  print(f\"{i} é aluno/a da classe\")"
      ],
      "execution_count": 26,
      "outputs": [
        {
          "output_type": "stream",
          "name": "stdout",
          "text": [
            "Maria é aluno/a da classe\n",
            "João é aluno/a da classe\n",
            "Marcelo é aluno/a da classe\n",
            "Jonas é aluno/a da classe\n",
            "Laura é aluno/a da classe\n",
            "Luana é aluno/a da classe\n"
          ]
        }
      ]
    },
    {
      "cell_type": "markdown",
      "metadata": {
        "id": "_HbJNv8MaG4g"
      },
      "source": [
        "**4 -** Utilizando-se da mesma lista trabalhada acima e a lista dada abaixo, que contem as idades dos alunos, realize um loop que faça a iteração com as duas listas printando \"{nome} tem {idade} anos\".\n",
        "Dica: utilize *zip*()"
      ]
    },
    {
      "cell_type": "code",
      "metadata": {
        "id": "LJDxmAbJeO9V"
      },
      "source": [
        "idades = [23,34,42,54,26,27]"
      ],
      "execution_count": 33,
      "outputs": []
    },
    {
      "cell_type": "code",
      "metadata": {
        "colab": {
          "base_uri": "https://localhost:8080/"
        },
        "id": "nk3NGM1UfT82",
        "outputId": "bbef6c28-c7fb-4bf2-9e4b-faa7721aa13e"
      },
      "source": [
        "zipped = list(zip(alunos, idades))\n",
        "\n",
        "#alunos2, idades2 = zip(*zipped)\n",
        "#alunos == list(alunos2) and idades == list(idades2)\n",
        "\n",
        "zipped"
      ],
      "execution_count": 51,
      "outputs": [
        {
          "output_type": "execute_result",
          "data": {
            "text/plain": [
              "[('Maria', 23),\n",
              " ('João', 34),\n",
              " ('Marcelo', 42),\n",
              " ('Jonas', 54),\n",
              " ('Laura', 26),\n",
              " ('Luana', 27)]"
            ]
          },
          "metadata": {},
          "execution_count": 51
        }
      ]
    },
    {
      "cell_type": "code",
      "metadata": {
        "colab": {
          "base_uri": "https://localhost:8080/"
        },
        "id": "kQz4QMKqjzw_",
        "outputId": "b6b9df83-6c53-480b-847e-a7dca7850434"
      },
      "source": [
        "print(zipped)"
      ],
      "execution_count": 52,
      "outputs": [
        {
          "output_type": "stream",
          "name": "stdout",
          "text": [
            "[('Maria', 23), ('João', 34), ('Marcelo', 42), ('Jonas', 54), ('Laura', 26), ('Luana', 27)]\n"
          ]
        }
      ]
    },
    {
      "cell_type": "code",
      "metadata": {
        "colab": {
          "base_uri": "https://localhost:8080/"
        },
        "id": "C5rI_9YDfTtN",
        "outputId": "45043fe1-977f-4c95-ffe4-86e47c812196"
      },
      "source": [
        "for (i,x) in zipped:\n",
        "  print(f\"{i} tem {x} anos \")"
      ],
      "execution_count": 54,
      "outputs": [
        {
          "output_type": "stream",
          "name": "stdout",
          "text": [
            "Maria tem 23 anos \n",
            "João tem 34 anos \n",
            "Marcelo tem 42 anos \n",
            "Jonas tem 54 anos \n",
            "Laura tem 26 anos \n",
            "Luana tem 27 anos \n"
          ]
        }
      ]
    },
    {
      "cell_type": "markdown",
      "metadata": {
        "id": "0tkhm6EUaG1u"
      },
      "source": [
        "**5 -** Transforme as duas listas anteriores em um dicionário cuja chave é o nome e o valor é a idade."
      ]
    },
    {
      "cell_type": "code",
      "metadata": {
        "id": "KDrUz8UzkMax"
      },
      "source": [
        "alunos_dict = {}\n",
        "for i in zipped:\n",
        "  alunos_dict[i[0]] = {}\n",
        "  alunos_dict[i[0]][\"idade\"] = i[1]"
      ],
      "execution_count": 59,
      "outputs": []
    },
    {
      "cell_type": "code",
      "metadata": {
        "colab": {
          "base_uri": "https://localhost:8080/"
        },
        "id": "q_a1J8aOkMpR",
        "outputId": "0d4a76fd-aa01-4562-8b0d-2b0d9a106272"
      },
      "source": [
        "alunos_dict"
      ],
      "execution_count": 60,
      "outputs": [
        {
          "output_type": "execute_result",
          "data": {
            "text/plain": [
              "{'Jonas': {'idade': 54},\n",
              " 'João': {'idade': 34},\n",
              " 'Laura': {'idade': 26},\n",
              " 'Luana': {'idade': 27},\n",
              " 'Marcelo': {'idade': 42},\n",
              " 'Maria': {'idade': 23}}"
            ]
          },
          "metadata": {},
          "execution_count": 60
        }
      ]
    },
    {
      "cell_type": "code",
      "metadata": {
        "colab": {
          "base_uri": "https://localhost:8080/"
        },
        "id": "fELSpdgTmnOt",
        "outputId": "b188bc2d-bd9c-43ab-951c-9c320eb1b66b"
      },
      "source": [
        "alunos_dict.keys()"
      ],
      "execution_count": 61,
      "outputs": [
        {
          "output_type": "execute_result",
          "data": {
            "text/plain": [
              "dict_keys(['Maria', 'João', 'Marcelo', 'Jonas', 'Laura', 'Luana'])"
            ]
          },
          "metadata": {},
          "execution_count": 61
        }
      ]
    },
    {
      "cell_type": "markdown",
      "metadata": {
        "id": "Lm1tOKThnU42"
      },
      "source": [
        "Exercícios adaptados de Python Brasil"
      ]
    }
  ]
}